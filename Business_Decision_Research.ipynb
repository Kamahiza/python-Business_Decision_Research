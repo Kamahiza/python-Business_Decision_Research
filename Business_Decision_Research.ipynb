{
  "nbformat": 4,
  "nbformat_minor": 0,
  "metadata": {
    "colab": {
      "name": "Business_Decision_Research.ipynb",
      "provenance": []
    },
    "kernelspec": {
      "name": "python3",
      "display_name": "Python 3"
    }
  },
  "cells": [
    {
      "cell_type": "markdown",
      "metadata": {
        "id": "-_uzLaI2DiK7"
      },
      "source": [
        "Data Analytics Test\n",
        "\n",
        "Data analytics test ini berisi 2 bagian, teori dan test coding yang masing-masing terdiri dari:\n",
        "\n",
        "    Teori \n",
        "\n",
        "        Konsep Dasar Data Analytics: Tes ini dimaksudkan untuk menguji pemahaman member tentang data analytics.\n",
        "\n",
        "    Coding Test\n",
        "\n",
        "        Data preparation test: Tes ini dimaksudkan untuk menguji kemampuan member dalam melakukan ETL data.\n",
        "        Data visualization test: Tes ini dimaksudkan untuk menguji kemampuan member dalam hal visualisasi data.\n",
        "        Basic Stats Method test: Tes ini dimaksudkan untuk menguji kemampuan member dalam melakukan modeling data menggunakan statistika dasar.\n"
      ]
    },
    {
      "cell_type": "markdown",
      "metadata": {
        "id": "RwWJgMTND_lw"
      },
      "source": [
        "DQLab sport center adalah toko yang menjual berbagai kebutuhan olahraga seperti Jaket, Baju, Tas, dan Sepatu. Toko ini mulai berjualan sejak tahun 2013, sehingga sudah memiliki pelanggan tetap sejak lama, dan tetap berusaha untuk mendapatkan pelanggan baru sampai saat ini.\n",
        "\n",
        " \n",
        "\n",
        "Di awal tahun 2019,   manajer toko tersebut merekrut junior DA untuk membantu  memecahkan masalah yang ada di tokonya, yaitu menurunnya pelanggan yang membeli kembali ke tokonya.  Junior DA tersebut pun diberi kepercayaan mengolah data transaksi toko tersebut. Manajer toko mendefinisikan bahwa customer termasuk sudah bukan disebut pelanggan lagi (churn) ketika dia sudah tidak bertransaksi ke tokonya lagi sampai dengan 6 bulan terakhir dari update data terakhir yang tersedia.  \n",
        "\n",
        "Manajer toko pun memberikan data transaksi dari tahun 2013 sampai dengan 2019 dalam bentuk csv (comma separated value) dengan data_retail.csv dengan jumlah baris 100.000 baris data.\n",
        "\n",
        "Berikut tampilan datanya:\n",
        "\n",
        " \n",
        "\n",
        "Field yang ada pada data tersebut antara lain:\n",
        "\n",
        "    No\n",
        "    Row_Num\n",
        "    Customer_ID\n",
        "    Product\n",
        "    First_Transaction\n",
        "    Last_Transaction\n",
        "    Average_Transaction_Amount\n",
        "    Count_Transaction\n"
      ]
    },
    {
      "cell_type": "markdown",
      "metadata": {
        "id": "i2_R169PEfnp"
      },
      "source": [
        "\n",
        "    Data preparation test\n",
        "\n",
        "        Importing data: Melakukan import data_retail.csv ke python environment.\n",
        "        Cleansing data: Melakukan pembersihan dan modifikasi data sehingga siap digunakan untuk analisis lebih lanjut.\n",
        "\n",
        "    Data visualization test: Mendapatkan insight dari hasil visualisasi yang telah dibuat.\n",
        "    Basic stats method test: Mendapatkan insight dari model dan evaluasi model yang sudah dibuat dan diuji.\n"
      ]
    },
    {
      "cell_type": "markdown",
      "metadata": {
        "id": "4fAI6N0PEpA_"
      },
      "source": [
        "Importlah dataset dari https://dqlab-dataset.s3-ap-southeast-1.amazonaws.com/data_retail.csv dan kemudian inspeksilah dataset tersebut dengan\n",
        "\n",
        "    mencetak lima data teratas saja,\n",
        "    mencetak info dataset.\n"
      ]
    },
    {
      "cell_type": "code",
      "metadata": {
        "id": "jcfCuvH2-B3N",
        "colab": {
          "base_uri": "https://localhost:8080/"
        },
        "outputId": "8cd06470-4a04-4669-97af-7e81bb7e5c89"
      },
      "source": [
        "import pandas as pd\n",
        "\n",
        "df = pd.read_csv('https://dqlab-dataset.s3-ap-southeast-1.amazonaws.com/data_retail.csv', sep=';')\n",
        "\n",
        "print('Lima data teratas:')\n",
        "print(df.head())\n",
        "\n",
        "print('\\nInfo dataset:')\n",
        "print(df.info())"
      ],
      "execution_count": 1,
      "outputs": [
        {
          "output_type": "stream",
          "text": [
            "Lima data teratas:\n",
            "   no  Row_Num  ...  Average_Transaction_Amount Count_Transaction\n",
            "0   1        1  ...                     1467681                22\n",
            "1   2        2  ...                     1269337                41\n",
            "2   3        3  ...                      310915                30\n",
            "3   4        4  ...                      722632                27\n",
            "4   5        5  ...                     1775036                25\n",
            "\n",
            "[5 rows x 8 columns]\n",
            "\n",
            "Info dataset:\n",
            "<class 'pandas.core.frame.DataFrame'>\n",
            "RangeIndex: 100000 entries, 0 to 99999\n",
            "Data columns (total 8 columns):\n",
            " #   Column                      Non-Null Count   Dtype \n",
            "---  ------                      --------------   ----- \n",
            " 0   no                          100000 non-null  int64 \n",
            " 1   Row_Num                     100000 non-null  int64 \n",
            " 2   Customer_ID                 100000 non-null  int64 \n",
            " 3   Product                     100000 non-null  object\n",
            " 4   First_Transaction           100000 non-null  int64 \n",
            " 5   Last_Transaction            100000 non-null  int64 \n",
            " 6   Average_Transaction_Amount  100000 non-null  int64 \n",
            " 7   Count_Transaction           100000 non-null  int64 \n",
            "dtypes: int64(7), object(1)\n",
            "memory usage: 6.1+ MB\n",
            "None\n"
          ],
          "name": "stdout"
        }
      ]
    },
    {
      "cell_type": "markdown",
      "metadata": {
        "id": "ReReC0UkEsIX"
      },
      "source": [
        "Dua kolom yang menunjukkan terjadinya transaksi tidak bertipe datetime, maka ubahlah kedua kolom tersebut ke tipe data datetime. Kemudian cetaklah kembali 5 data teratas dari dataframe df dan juga tipe data masing-masing kolomnya."
      ]
    },
    {
      "cell_type": "code",
      "metadata": {
        "colab": {
          "base_uri": "https://localhost:8080/"
        },
        "id": "9C4PFRSoCYft",
        "outputId": "4f636550-726b-4b34-be89-a552a9072506"
      },
      "source": [
        "# Kolom First_Transaction\n",
        "df['First_Transaction'] = pd.to_datetime(df['First_Transaction']/1000, unit='s', origin='1970-01-01')\n",
        "# Kolom Last_Transaction\n",
        "df['Last_Transaction'] = pd.to_datetime(df['Last_Transaction']/1000, unit='s', origin='1970-01-01')\n",
        "\n",
        "print('Lima data teratas:')\n",
        "print(df.head())\n",
        "\n",
        "print('\\nInfo dataset:')\n",
        "print(df.info())"
      ],
      "execution_count": 2,
      "outputs": [
        {
          "output_type": "stream",
          "text": [
            "Lima data teratas:\n",
            "   no  Row_Num  ...  Average_Transaction_Amount Count_Transaction\n",
            "0   1        1  ...                     1467681                22\n",
            "1   2        2  ...                     1269337                41\n",
            "2   3        3  ...                      310915                30\n",
            "3   4        4  ...                      722632                27\n",
            "4   5        5  ...                     1775036                25\n",
            "\n",
            "[5 rows x 8 columns]\n",
            "\n",
            "Info dataset:\n",
            "<class 'pandas.core.frame.DataFrame'>\n",
            "RangeIndex: 100000 entries, 0 to 99999\n",
            "Data columns (total 8 columns):\n",
            " #   Column                      Non-Null Count   Dtype         \n",
            "---  ------                      --------------   -----         \n",
            " 0   no                          100000 non-null  int64         \n",
            " 1   Row_Num                     100000 non-null  int64         \n",
            " 2   Customer_ID                 100000 non-null  int64         \n",
            " 3   Product                     100000 non-null  object        \n",
            " 4   First_Transaction           100000 non-null  datetime64[ns]\n",
            " 5   Last_Transaction            100000 non-null  datetime64[ns]\n",
            " 6   Average_Transaction_Amount  100000 non-null  int64         \n",
            " 7   Count_Transaction           100000 non-null  int64         \n",
            "dtypes: datetime64[ns](2), int64(5), object(1)\n",
            "memory usage: 6.1+ MB\n",
            "None\n"
          ],
          "name": "stdout"
        }
      ]
    },
    {
      "cell_type": "markdown",
      "metadata": {
        "id": "Mg9o78_YE0aH"
      },
      "source": [
        "Untuk menentukan churn customers sesuai definisi yang telah diberikan, carilah\n",
        "\n",
        "    transaksi paling terakhir kapan dilakukan\n",
        "    klasifikasikanlah mana customer yang berstatus churn dan mana yang tidak.\n",
        "\n",
        "Setelah itu cetak lima data teratas dan informasi dataset."
      ]
    },
    {
      "cell_type": "code",
      "metadata": {
        "colab": {
          "base_uri": "https://localhost:8080/"
        },
        "id": "N2nlub9FCis9",
        "outputId": "d47e8d3e-dbf6-4ae8-c47e-e5375437516b"
      },
      "source": [
        "# Pengecekan transaksaksi terakhir dalam dataset\n",
        "print(max(df['Last_Transaction']))\n",
        "\n",
        "# Klasifikasikan customer yang berstatus churn atau tidak\n",
        "df.loc[df['Last_Transaction'] <= '2018-08-01', 'is_churn'] = True\n",
        "df.loc[df['Last_Transaction'] > '2018-08-01', 'is_churn'] = False\n",
        "\n",
        "print('Lima data teratas:')\n",
        "print(df.head())\n",
        "\n",
        "print('\\nInfo dataset:')\n",
        "print(df.info())"
      ],
      "execution_count": 3,
      "outputs": [
        {
          "output_type": "stream",
          "text": [
            "2019-02-01 23:57:57.286000013\n",
            "Lima data teratas:\n",
            "   no  Row_Num  ...  Count_Transaction is_churn\n",
            "0   1        1  ...                 22    False\n",
            "1   2        2  ...                 41    False\n",
            "2   3        3  ...                 30    False\n",
            "3   4        4  ...                 27    False\n",
            "4   5        5  ...                 25    False\n",
            "\n",
            "[5 rows x 9 columns]\n",
            "\n",
            "Info dataset:\n",
            "<class 'pandas.core.frame.DataFrame'>\n",
            "RangeIndex: 100000 entries, 0 to 99999\n",
            "Data columns (total 9 columns):\n",
            " #   Column                      Non-Null Count   Dtype         \n",
            "---  ------                      --------------   -----         \n",
            " 0   no                          100000 non-null  int64         \n",
            " 1   Row_Num                     100000 non-null  int64         \n",
            " 2   Customer_ID                 100000 non-null  int64         \n",
            " 3   Product                     100000 non-null  object        \n",
            " 4   First_Transaction           100000 non-null  datetime64[ns]\n",
            " 5   Last_Transaction            100000 non-null  datetime64[ns]\n",
            " 6   Average_Transaction_Amount  100000 non-null  int64         \n",
            " 7   Count_Transaction           100000 non-null  int64         \n",
            " 8   is_churn                    100000 non-null  object        \n",
            "dtypes: datetime64[ns](2), int64(5), object(2)\n",
            "memory usage: 6.9+ MB\n",
            "None\n"
          ],
          "name": "stdout"
        }
      ]
    },
    {
      "cell_type": "markdown",
      "metadata": {
        "id": "JwlNf5dpFDut"
      },
      "source": [
        "hapuslah kolom-kolom yang dimaksud dengan melengkapi code pada live code editor."
      ]
    },
    {
      "cell_type": "code",
      "metadata": {
        "colab": {
          "base_uri": "https://localhost:8080/"
        },
        "id": "ng1Tbws_Cr9l",
        "outputId": "4f412d88-eba8-4ee1-a2dd-acde930acc21"
      },
      "source": [
        "del df['no']\n",
        "del df['Row_Num']\n",
        "\n",
        "# Cetak lima data teratas\n",
        "print(df.head())"
      ],
      "execution_count": 4,
      "outputs": [
        {
          "output_type": "stream",
          "text": [
            "   Customer_ID Product  ... Count_Transaction is_churn\n",
            "0        29531   Jaket  ...                22    False\n",
            "1        29531  Sepatu  ...                41    False\n",
            "2       141526     Tas  ...                30    False\n",
            "3       141526   Jaket  ...                27    False\n",
            "4        37545  Sepatu  ...                25    False\n",
            "\n",
            "[5 rows x 7 columns]\n"
          ],
          "name": "stdout"
        }
      ]
    }
  ]
}